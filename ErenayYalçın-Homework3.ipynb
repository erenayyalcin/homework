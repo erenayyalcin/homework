{
 "cells": [
  {
   "cell_type": "code",
   "execution_count": 1,
   "metadata": {},
   "outputs": [
    {
     "ename": "IndentationError",
     "evalue": "expected an indented block (<ipython-input-1-8f6465168c11>, line 31)",
     "output_type": "error",
     "traceback": [
      "\u001b[0;36m  File \u001b[0;32m\"<ipython-input-1-8f6465168c11>\"\u001b[0;36m, line \u001b[0;32m31\u001b[0m\n\u001b[0;31m    print(i)\u001b[0m\n\u001b[0m        ^\u001b[0m\n\u001b[0;31mIndentationError\u001b[0m\u001b[0;31m:\u001b[0m expected an indented block\n"
     ]
    }
   ],
   "source": [
    "# 3 bölümlü program \n",
    "\n",
    "numbers = [\"1\" , \"2\" , \"3\"]\n",
    "\n",
    "for x in numbers:\n",
    "    print(x)\n",
    "\n",
    "a = float(input(\"1 ,2 veya 3 .\\n\"))\n",
    "\n",
    "if a>=4:\n",
    "    print(\"Lütfen programı tekrar başlatınız.\", '\\n')\n",
    "\n",
    "if a==1:\n",
    "    \n",
    "    x=int(input(\"x kenarının değeri.\"))\n",
    "    y=int(input(\"y kenarının değeri.\"))\n",
    "    #z = Hipotenüs\n",
    "    \n",
    "    print(\"x ve y kenarlarının değerini giriniz\",'\\n')\n",
    "    \n",
    "    x**2 + y**2 = z**2 \n",
    "    z = z**0.5\n",
    "    print(\"Hipotenüs: \\n\",z)\n",
    "\n",
    "elif a==2:\n",
    "\n",
    "    i = 1\n",
    "    num = 3 \n",
    "\n",
    "    while i <= num:\n",
    "    print(i)\n",
    "    i+=1\n",
    "    \n",
    "\n",
    "elif  a==3:\n",
    "    print(\"Aritmetik Ortalama: \",A.O,)\n",
    "    \n",
    "    x1=int(intput(\"Birinci değer:\"))\n",
    "    x2=int(intput(\"İkinci değer:\"))\n",
    "    x3=int(intput(\"Üçüncü değer:\"))\n",
    "    x4=int(intput(\"Dördüncü değer:\"))\n",
    "    x5=int(intput(\"Beşinci değer:\"))\n",
    "    x6=int(intput(\"Altıncı değer:\"))\n",
    "    \n",
    "    A.O = (x1+x2+x3+x4+x5+x6)/6\n",
    "    "
   ]
  },
  {
   "cell_type": "code",
   "execution_count": null,
   "metadata": {},
   "outputs": [],
   "source": []
  }
 ],
 "metadata": {
  "kernelspec": {
   "display_name": "Python 3",
   "language": "python",
   "name": "python3"
  },
  "language_info": {
   "codemirror_mode": {
    "name": "ipython",
    "version": 3
   },
   "file_extension": ".py",
   "mimetype": "text/x-python",
   "name": "python",
   "nbconvert_exporter": "python",
   "pygments_lexer": "ipython3",
   "version": "3.6.7"
  }
 },
 "nbformat": 4,
 "nbformat_minor": 2
}
